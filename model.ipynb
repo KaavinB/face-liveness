{
 "cells": [
  {
   "cell_type": "code",
   "execution_count": 215,
   "metadata": {},
   "outputs": [],
   "source": [
    "train_path = \"dataset/train\"\n",
    "val_path = \"dataset/val\""
   ]
  },
  {
   "cell_type": "code",
   "execution_count": 216,
   "metadata": {},
   "outputs": [],
   "source": [
    "import numpy as np\n",
    "import matplotlib.pyplot as plt\n",
    "import tensorflow as tf\n",
    "from tensorflow import keras\n",
    "from keras.layers import *\n",
    "from keras.models import *\n",
    "from keras.preprocessing import image"
   ]
  },
  {
   "cell_type": "code",
   "execution_count": 217,
   "metadata": {},
   "outputs": [],
   "source": [
    "from tensorflow import keras\n",
    "from tensorflow.keras.models import Sequential\n",
    "from tensorflow.keras.layers import Conv2D, MaxPooling2D, Flatten, Dense, Dropout\n",
    "\n",
    "model = Sequential()\n",
    "model.add(Conv2D(32, kernel_size=(3, 3), activation='relu', input_shape=(128, 128, 3)))\n",
    "model.add(Conv2D(64, (5, 5), activation='relu'))\n",
    "model.add(MaxPooling2D(pool_size=(2, 2)))\n",
    "model.add(Dropout(0.25))\n",
    "\n",
    "model.add(Conv2D(64, (3, 3), activation='relu'))\n",
    "model.add(MaxPooling2D(pool_size=(2, 2)))\n",
    "model.add(Dropout(0.25))\n",
    "\n",
    "model.add(Flatten())\n",
    "model.add(Dense(64, activation='relu'))\n",
    "model.add(Dropout(0.5))\n",
    "model.add(Dense(1, activation='sigmoid'))\n",
    "\n",
    "model.compile(loss=keras.losses.binary_crossentropy, optimizer='adam', metrics=['accuracy'])\n"
   ]
  },
  {
   "cell_type": "code",
   "execution_count": 218,
   "metadata": {},
   "outputs": [
    {
     "name": "stdout",
     "output_type": "stream",
     "text": [
      "Model: \"sequential_26\"\n",
      "_________________________________________________________________\n",
      " Layer (type)                Output Shape              Param #   \n",
      "=================================================================\n",
      " conv2d_74 (Conv2D)          (None, 126, 126, 32)      896       \n",
      "                                                                 \n",
      " conv2d_75 (Conv2D)          (None, 122, 122, 64)      51264     \n",
      "                                                                 \n",
      " max_pooling2d_48 (MaxPooli  (None, 61, 61, 64)        0         \n",
      " ng2D)                                                           \n",
      "                                                                 \n",
      " dropout_73 (Dropout)        (None, 61, 61, 64)        0         \n",
      "                                                                 \n",
      " conv2d_76 (Conv2D)          (None, 59, 59, 64)        36928     \n",
      "                                                                 \n",
      " max_pooling2d_49 (MaxPooli  (None, 29, 29, 64)        0         \n",
      " ng2D)                                                           \n",
      "                                                                 \n",
      " dropout_74 (Dropout)        (None, 29, 29, 64)        0         \n",
      "                                                                 \n",
      " flatten_25 (Flatten)        (None, 53824)             0         \n",
      "                                                                 \n",
      " dense_50 (Dense)            (None, 64)                3444800   \n",
      "                                                                 \n",
      " dropout_75 (Dropout)        (None, 64)                0         \n",
      "                                                                 \n",
      " dense_51 (Dense)            (None, 1)                 65        \n",
      "                                                                 \n",
      "=================================================================\n",
      "Total params: 3533953 (13.48 MB)\n",
      "Trainable params: 3533953 (13.48 MB)\n",
      "Non-trainable params: 0 (0.00 Byte)\n",
      "_________________________________________________________________\n"
     ]
    }
   ],
   "source": [
    "model.summary()"
   ]
  },
  {
   "cell_type": "code",
   "execution_count": 219,
   "metadata": {},
   "outputs": [],
   "source": [
    "train_datagen = image.ImageDataGenerator(\n",
    "    rescale = 1./256,\n",
    "    shear_range = 0.2,\n",
    "    zoom_range = 0.2,\n",
    "    horizontal_flip = True,\n",
    ")\n",
    "\n",
    "test_dataset = image.ImageDataGenerator(rescale = 1./256)"
   ]
  },
  {
   "cell_type": "code",
   "execution_count": 220,
   "metadata": {},
   "outputs": [
    {
     "name": "stdout",
     "output_type": "stream",
     "text": [
      "Found 94 images belonging to 2 classes.\n"
     ]
    }
   ],
   "source": [
    "train_generator = train_datagen.flow_from_directory(\n",
    "'dataset/train',\n",
    "target_size = (128,128),\n",
    "batch_size = 12,\n",
    "class_mode = 'binary'\n",
    ")"
   ]
  },
  {
   "cell_type": "code",
   "execution_count": 221,
   "metadata": {},
   "outputs": [
    {
     "data": {
      "text/plain": [
       "{'Real': 0, 'Spoof': 1}"
      ]
     },
     "execution_count": 221,
     "metadata": {},
     "output_type": "execute_result"
    }
   ],
   "source": [
    "train_generator.class_indices"
   ]
  },
  {
   "cell_type": "code",
   "execution_count": 222,
   "metadata": {},
   "outputs": [
    {
     "name": "stdout",
     "output_type": "stream",
     "text": [
      "Found 26 images belonging to 2 classes.\n"
     ]
    }
   ],
   "source": [
    "validation_generator = train_datagen.flow_from_directory(\n",
    "'dataset/val',\n",
    "target_size = (128,128),\n",
    "batch_size = 12,\n",
    "class_mode = 'binary'\n",
    ")"
   ]
  },
  {
   "cell_type": "code",
   "execution_count": 223,
   "metadata": {},
   "outputs": [
    {
     "name": "stdout",
     "output_type": "stream",
     "text": [
      "Epoch 1/50\n",
      "8/8 [==============================] - 5s 568ms/step - loss: 0.8348 - accuracy: 0.4362 - val_loss: 0.6837 - val_accuracy: 0.5000\n",
      "Epoch 2/50\n",
      "8/8 [==============================] - 4s 516ms/step - loss: 0.6469 - accuracy: 0.6383 - val_loss: 0.6831 - val_accuracy: 0.4583\n",
      "Epoch 3/50\n",
      "8/8 [==============================] - 5s 601ms/step - loss: 0.6345 - accuracy: 0.6702 - val_loss: 0.6675 - val_accuracy: 0.5000\n",
      "Epoch 4/50\n",
      "8/8 [==============================] - 5s 569ms/step - loss: 0.6273 - accuracy: 0.7340 - val_loss: 0.6526 - val_accuracy: 0.7500\n",
      "Epoch 5/50\n",
      "8/8 [==============================] - 4s 549ms/step - loss: 0.5972 - accuracy: 0.7340 - val_loss: 0.5888 - val_accuracy: 0.6250\n",
      "Epoch 6/50\n",
      "8/8 [==============================] - 5s 634ms/step - loss: 0.5476 - accuracy: 0.7553 - val_loss: 0.6562 - val_accuracy: 0.6250\n",
      "Epoch 7/50\n",
      "8/8 [==============================] - 5s 663ms/step - loss: 0.4785 - accuracy: 0.7447 - val_loss: 0.5584 - val_accuracy: 0.7083\n",
      "Epoch 8/50\n",
      "8/8 [==============================] - 5s 566ms/step - loss: 0.5119 - accuracy: 0.7553 - val_loss: 0.5185 - val_accuracy: 0.7500\n",
      "Epoch 9/50\n",
      "8/8 [==============================] - 5s 631ms/step - loss: 0.4588 - accuracy: 0.7340 - val_loss: 0.5647 - val_accuracy: 0.7083\n",
      "Epoch 10/50\n",
      "8/8 [==============================] - 5s 668ms/step - loss: 0.3737 - accuracy: 0.8511 - val_loss: 0.5771 - val_accuracy: 0.7083\n",
      "Epoch 11/50\n",
      "8/8 [==============================] - 5s 653ms/step - loss: 0.3500 - accuracy: 0.8936 - val_loss: 0.4268 - val_accuracy: 0.8333\n",
      "Epoch 12/50\n",
      "8/8 [==============================] - 5s 669ms/step - loss: 0.4343 - accuracy: 0.7872 - val_loss: 0.5771 - val_accuracy: 0.7500\n",
      "Epoch 13/50\n",
      "8/8 [==============================] - 5s 605ms/step - loss: 0.4161 - accuracy: 0.8191 - val_loss: 0.6102 - val_accuracy: 0.7917\n",
      "Epoch 14/50\n",
      "8/8 [==============================] - 5s 683ms/step - loss: 0.4332 - accuracy: 0.8404 - val_loss: 0.5626 - val_accuracy: 0.7500\n",
      "Epoch 15/50\n",
      "8/8 [==============================] - 5s 614ms/step - loss: 0.3755 - accuracy: 0.8617 - val_loss: 0.5410 - val_accuracy: 0.7500\n",
      "Epoch 16/50\n",
      "8/8 [==============================] - 5s 586ms/step - loss: 0.3208 - accuracy: 0.8723 - val_loss: 0.5875 - val_accuracy: 0.6667\n",
      "Epoch 17/50\n",
      "8/8 [==============================] - 5s 629ms/step - loss: 0.3833 - accuracy: 0.8085 - val_loss: 0.5265 - val_accuracy: 0.7917\n",
      "Epoch 18/50\n",
      "8/8 [==============================] - 5s 637ms/step - loss: 0.3042 - accuracy: 0.8723 - val_loss: 0.4705 - val_accuracy: 0.7500\n",
      "Epoch 19/50\n",
      "8/8 [==============================] - 4s 517ms/step - loss: 0.3224 - accuracy: 0.8723 - val_loss: 0.5315 - val_accuracy: 0.7500\n",
      "Epoch 20/50\n",
      "8/8 [==============================] - 4s 508ms/step - loss: 0.3183 - accuracy: 0.8830 - val_loss: 0.4554 - val_accuracy: 0.7500\n",
      "Epoch 21/50\n",
      "8/8 [==============================] - 4s 543ms/step - loss: 0.2295 - accuracy: 0.9255 - val_loss: 0.5921 - val_accuracy: 0.7500\n",
      "Epoch 22/50\n",
      "8/8 [==============================] - 5s 610ms/step - loss: 0.2278 - accuracy: 0.9043 - val_loss: 0.5730 - val_accuracy: 0.8333\n",
      "Epoch 23/50\n",
      "8/8 [==============================] - 6s 694ms/step - loss: 0.1881 - accuracy: 0.9574 - val_loss: 0.6899 - val_accuracy: 0.7083\n",
      "Epoch 24/50\n",
      "8/8 [==============================] - 5s 659ms/step - loss: 0.3627 - accuracy: 0.8404 - val_loss: 0.4805 - val_accuracy: 0.7083\n",
      "Epoch 25/50\n",
      "8/8 [==============================] - 6s 710ms/step - loss: 0.2283 - accuracy: 0.8936 - val_loss: 0.5262 - val_accuracy: 0.7500\n",
      "Epoch 26/50\n",
      "8/8 [==============================] - 6s 718ms/step - loss: 0.3086 - accuracy: 0.8723 - val_loss: 0.5285 - val_accuracy: 0.8333\n",
      "Epoch 27/50\n",
      "8/8 [==============================] - 6s 746ms/step - loss: 0.2365 - accuracy: 0.9255 - val_loss: 0.6071 - val_accuracy: 0.7083\n",
      "Epoch 28/50\n",
      "8/8 [==============================] - 6s 676ms/step - loss: 0.2378 - accuracy: 0.9043 - val_loss: 0.6011 - val_accuracy: 0.6667\n",
      "Epoch 29/50\n",
      "8/8 [==============================] - 5s 663ms/step - loss: 0.1703 - accuracy: 0.9255 - val_loss: 0.6498 - val_accuracy: 0.7083\n",
      "Epoch 30/50\n",
      "8/8 [==============================] - 5s 568ms/step - loss: 0.1706 - accuracy: 0.9468 - val_loss: 0.7475 - val_accuracy: 0.7500\n",
      "Epoch 31/50\n",
      "8/8 [==============================] - 5s 657ms/step - loss: 0.1711 - accuracy: 0.9043 - val_loss: 0.6397 - val_accuracy: 0.7500\n",
      "Epoch 32/50\n",
      "8/8 [==============================] - 5s 649ms/step - loss: 0.1046 - accuracy: 0.9362 - val_loss: 1.0034 - val_accuracy: 0.7500\n",
      "Epoch 33/50\n",
      "8/8 [==============================] - 5s 609ms/step - loss: 0.1523 - accuracy: 0.9255 - val_loss: 1.0863 - val_accuracy: 0.7083\n",
      "Epoch 34/50\n",
      "8/8 [==============================] - 6s 738ms/step - loss: 0.2842 - accuracy: 0.8936 - val_loss: 0.5924 - val_accuracy: 0.8750\n",
      "Epoch 35/50\n",
      "8/8 [==============================] - 5s 656ms/step - loss: 0.2153 - accuracy: 0.9043 - val_loss: 0.6039 - val_accuracy: 0.7083\n",
      "Epoch 36/50\n",
      "8/8 [==============================] - 6s 760ms/step - loss: 0.1977 - accuracy: 0.9468 - val_loss: 0.7482 - val_accuracy: 0.7500\n",
      "Epoch 37/50\n",
      "8/8 [==============================] - 6s 698ms/step - loss: 0.2571 - accuracy: 0.8617 - val_loss: 0.7242 - val_accuracy: 0.6667\n",
      "Epoch 38/50\n",
      "8/8 [==============================] - 5s 654ms/step - loss: 0.2382 - accuracy: 0.8936 - val_loss: 0.8331 - val_accuracy: 0.7083\n",
      "Epoch 39/50\n",
      "8/8 [==============================] - 5s 621ms/step - loss: 0.2468 - accuracy: 0.8617 - val_loss: 0.7432 - val_accuracy: 0.7083\n",
      "Epoch 40/50\n",
      "8/8 [==============================] - 5s 651ms/step - loss: 0.1897 - accuracy: 0.9362 - val_loss: 0.5733 - val_accuracy: 0.7917\n",
      "Epoch 41/50\n",
      "8/8 [==============================] - 5s 649ms/step - loss: 0.1864 - accuracy: 0.9255 - val_loss: 0.6608 - val_accuracy: 0.7083\n",
      "Epoch 42/50\n",
      "8/8 [==============================] - 5s 673ms/step - loss: 0.1977 - accuracy: 0.9149 - val_loss: 0.7851 - val_accuracy: 0.7917\n",
      "Epoch 43/50\n",
      "8/8 [==============================] - 5s 639ms/step - loss: 0.1195 - accuracy: 0.9362 - val_loss: 1.0217 - val_accuracy: 0.7500\n",
      "Epoch 44/50\n",
      "8/8 [==============================] - 5s 633ms/step - loss: 0.1108 - accuracy: 0.9468 - val_loss: 1.3476 - val_accuracy: 0.7083\n",
      "Epoch 45/50\n",
      "8/8 [==============================] - 5s 628ms/step - loss: 0.2594 - accuracy: 0.9468 - val_loss: 0.8657 - val_accuracy: 0.6667\n",
      "Epoch 46/50\n",
      "8/8 [==============================] - 5s 617ms/step - loss: 0.2035 - accuracy: 0.9149 - val_loss: 0.7035 - val_accuracy: 0.7083\n",
      "Epoch 47/50\n",
      "8/8 [==============================] - 5s 615ms/step - loss: 0.1757 - accuracy: 0.9255 - val_loss: 0.7653 - val_accuracy: 0.8333\n",
      "Epoch 48/50\n",
      "8/8 [==============================] - 4s 506ms/step - loss: 0.1666 - accuracy: 0.9468 - val_loss: 0.6247 - val_accuracy: 0.7917\n",
      "Epoch 49/50\n",
      "8/8 [==============================] - 4s 496ms/step - loss: 0.1517 - accuracy: 0.9362 - val_loss: 0.6017 - val_accuracy: 0.7917\n",
      "Epoch 50/50\n",
      "8/8 [==============================] - 4s 548ms/step - loss: 0.1544 - accuracy: 0.9043 - val_loss: 0.9311 - val_accuracy: 0.7500\n"
     ]
    }
   ],
   "source": [
    "hist = model.fit(\n",
    "    train_generator,\n",
    "    steps_per_epoch=8,\n",
    "    epochs=50,\n",
    "    validation_data=validation_generator,\n",
    "    validation_steps=2\n",
    ")\n"
   ]
  },
  {
   "cell_type": "code",
   "execution_count": 239,
   "metadata": {},
   "outputs": [
    {
     "name": "stdout",
     "output_type": "stream",
     "text": [
      "1/1 [==============================] - 0s 36ms/step\n",
      "Real\n",
      "Probability of being a real image: 0.7143496572971344\n"
     ]
    }
   ],
   "source": [
    "import numpy as np\n",
    "from keras.preprocessing import image\n",
    "\n",
    "# Load the image\n",
    "img_path = 'r4.jpg'\n",
    "img = image.load_img(img_path, target_size=(128, 128))\n",
    "\n",
    "# Preprocess the image\n",
    "img_array = image.img_to_array(img)\n",
    "img_array = np.expand_dims(img_array, axis=0)\n",
    "img_array /= 255.0  # Normalize the image\n",
    "\n",
    "# Make prediction\n",
    "prediction = model.predict(img_array)\n",
    "\n",
    "# Print prediction\n",
    "if prediction<0.5:\n",
    "    print(\"Real\")\n",
    "    print(\"Probability of being a real image:\", 1 - prediction[0][0])\n",
    "else:\n",
    "    print(\"Spoof\")\n",
    "    print(\"Probability of being a spoofed image:\", prediction[0][0])\n"
   ]
  }
 ],
 "metadata": {
  "kernelspec": {
   "display_name": "base",
   "language": "python",
   "name": "python3"
  },
  "language_info": {
   "codemirror_mode": {
    "name": "ipython",
    "version": 3
   },
   "file_extension": ".py",
   "mimetype": "text/x-python",
   "name": "python",
   "nbconvert_exporter": "python",
   "pygments_lexer": "ipython3",
   "version": "3.8.1"
  }
 },
 "nbformat": 4,
 "nbformat_minor": 2
}
